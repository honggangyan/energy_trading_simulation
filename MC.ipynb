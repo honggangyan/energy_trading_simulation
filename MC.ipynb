{
 "cells": [
  {
   "cell_type": "code",
   "execution_count": null,
   "metadata": {},
   "outputs": [],
   "source": [
    "import numpy as np\n",
    "import pandas as pd\n",
    "import matplotlib.pyplot as plt\n",
    "from plot import *\n",
    "from dynamic_stop_loss import *\n",
    "from cost_benchmark import cost_benchmark\n",
    "import calendar\n",
    "\n",
    "\n",
    "# Set parameters\n",
    "np.random.seed(42)\n",
    "\n",
    "year = 2024\n",
    "days = 366 if calendar.isleap(year) else 365\n",
    "simulations = 1000  # Number of simulations\n",
    "initial_price = 50  # Initial price in EUR/MWh\n",
    "mu = 0.0005  # Drift (expected daily return)\n",
    "sigma = 0.005  # Volatility (daily standard deviation of returns)\n",
    "\n",
    "# Monte Carlo simulation for multiple price paths\n",
    "def monte_carlo_simulation(initial_price, mu, sigma, days, simulations):\n",
    "    price_matrix = np.zeros((simulations, days))\n",
    "    price_matrix[:, 0] = initial_price\n",
    "\n",
    "    for t in range(1, days):\n",
    "        # Generate daily returns based on normal distribution (drift + volatility)\n",
    "        random_returns = np.random.normal(mu, sigma, simulations)\n",
    "        price_matrix[:, t] = price_matrix[:, t - 1] * np.exp(random_returns)\n",
    "    \n",
    "    return price_matrix\n",
    "\n",
    "# Run the simulation\n",
    "price_paths = monte_carlo_simulation(initial_price, mu, sigma, days, simulations)\n",
    "\n",
    "# Create a DataFrame for plotting\n",
    "dates = pd.date_range(start='2024-01-01', periods=days)\n",
    "df_simulations = pd.DataFrame(price_paths.T, index=dates)\n",
    "\n",
    "# Plot a few random simulations (for visualization purposes)\n",
    "plt.figure(figsize=(20, 6))\n",
    "for i in range(simulations):  # Plot only 10 random simulations for clarity\n",
    "    plt.plot(df_simulations.index, df_simulations.iloc[:, i], lw=1)\n",
    "plt.title(f'Monte Carlo Simulated Electricity Price Paths ({simulations} Simulations)')\n",
    "plt.xlabel('Date')\n",
    "plt.ylabel('Price (EUR/MWh)')\n",
    "plt.grid(True)\n",
    "plt.show()"
   ]
  },
  {
   "cell_type": "code",
   "execution_count": 2,
   "metadata": {},
   "outputs": [],
   "source": [
    "spread = 0.8"
   ]
  },
  {
   "cell_type": "code",
   "execution_count": null,
   "metadata": {},
   "outputs": [],
   "source": [
    "all_saving_stats = []\n",
    "for i in range(simulations):\n",
    "    df_single = pd.DataFrame({\n",
    "        \"Price\": df_simulations.iloc[:, i]\n",
    "    })\n",
    "    df_single.index.name = \"Dates\"  \n",
    "    df_single.reset_index(inplace=True)\n",
    "    \n",
    "    procurement = quarterly_procurement(df_single, spread)\n",
    "    average_price, average_procurement_price, total_average_cost, total_procurement_cost, savings = cost_benchmark(\"single simulation\", df_single, procurement)\n",
    "    \n",
    "    all_saving_stats.append(savings)\n",
    "\n",
    "# 计算所有 savings 的平均值\n",
    "average_savings = np.mean(all_saving_stats)\n",
    "count_positive = sum(1 for s in all_saving_stats if s > 0)\n",
    "print(f\"Average Savings: {average_savings}\")\n",
    "print(f\"Number of positive savings: {count_positive}\")"
   ]
  },
  {
   "cell_type": "code",
   "execution_count": null,
   "metadata": {},
   "outputs": [],
   "source": []
  }
 ],
 "metadata": {
  "kernelspec": {
   "display_name": "Python 3",
   "language": "python",
   "name": "python3"
  },
  "language_info": {
   "codemirror_mode": {
    "name": "ipython",
    "version": 3
   },
   "file_extension": ".py",
   "mimetype": "text/x-python",
   "name": "python",
   "nbconvert_exporter": "python",
   "pygments_lexer": "ipython3",
   "version": "3.12.2"
  }
 },
 "nbformat": 4,
 "nbformat_minor": 2
}
