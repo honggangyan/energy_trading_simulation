{
 "cells": [
  {
   "cell_type": "code",
   "execution_count": null,
   "metadata": {},
   "outputs": [],
   "source": [
    "import numpy as np\n",
    "import pandas as pd\n",
    "import matplotlib.pyplot as plt\n",
    "\n",
    "# Set parameters\n",
    "np.random.seed(42)\n",
    "days = 365\n",
    "simulations = 1000  # Number of simulations\n",
    "initial_price = 50  # Initial price in EUR/MWh\n",
    "mu = 0.0005  # Drift (expected daily return)\n",
    "sigma = 0.02  # Volatility (daily standard deviation of returns)\n",
    "\n",
    "# Monte Carlo simulation for multiple price paths\n",
    "def monte_carlo_simulation(initial_price, mu, sigma, days, simulations):\n",
    "    price_matrix = np.zeros((simulations, days))\n",
    "    price_matrix[:, 0] = initial_price\n",
    "\n",
    "    for t in range(1, days):\n",
    "        # Generate daily returns based on normal distribution (drift + volatility)\n",
    "        random_returns = np.random.normal(mu, sigma, simulations)\n",
    "        price_matrix[:, t] = price_matrix[:, t - 1] * np.exp(random_returns)\n",
    "    \n",
    "    return price_matrix\n",
    "\n",
    "# Run the simulation\n",
    "price_paths = monte_carlo_simulation(initial_price, mu, sigma, days, simulations)\n",
    "\n",
    "# Create a DataFrame for plotting\n",
    "dates = pd.date_range(start='2024-01-01', periods=days)\n",
    "df_simulations = pd.DataFrame(price_paths.T, index=dates)\n",
    "\n",
    "# Plot a few random simulations (for visualization purposes)\n",
    "plt.figure(figsize=(10, 6))\n",
    "for i in range(simulations):  # Plot only 10 random simulations for clarity\n",
    "    plt.plot(df_simulations.index, df_simulations.iloc[:, i], lw=1)\n",
    "plt.title(f'Monte Carlo Simulated Electricity Price Paths ({simulations} Simulations)')\n",
    "plt.xlabel('Date')\n",
    "plt.ylabel('Price (EUR/MWh)')\n",
    "plt.grid(True)\n",
    "plt.show()\n",
    "\n",
    "# Summary statistics for the final day prices\n",
    "final_prices = df_simulations.iloc[-1, :]\n",
    "mean_price = np.mean(final_prices)\n",
    "median_price = np.median(final_prices)\n",
    "std_price = np.std(final_prices)\n",
    "\n",
    "print(f\"Mean final price: {mean_price:.2f} EUR/MWh\")\n",
    "print(f\"Median final price: {median_price:.2f} EUR/MWh\")\n",
    "print(f\"Standard deviation of final price: {std_price:.2f} EUR/MWh\")\n"
   ]
  }
 ],
 "metadata": {
  "language_info": {
   "name": "python"
  }
 },
 "nbformat": 4,
 "nbformat_minor": 2
}
